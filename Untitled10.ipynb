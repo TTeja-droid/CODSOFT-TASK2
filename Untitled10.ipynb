{
  "nbformat": 4,
  "nbformat_minor": 0,
  "metadata": {
    "colab": {
      "provenance": [],
      "authorship_tag": "ABX9TyMRTSGxWF92L2P2JWVCIOpE",
      "include_colab_link": true
    },
    "kernelspec": {
      "name": "python3",
      "display_name": "Python 3"
    },
    "language_info": {
      "name": "python"
    }
  },
  "cells": [
    {
      "cell_type": "markdown",
      "metadata": {
        "id": "view-in-github",
        "colab_type": "text"
      },
      "source": [
        "<a href=\"https://colab.research.google.com/github/TTeja-droid/CODSOFT-TASK2/blob/main/Untitled10.ipynb\" target=\"_parent\"><img src=\"https://colab.research.google.com/assets/colab-badge.svg\" alt=\"Open In Colab\"/></a>"
      ]
    },
    {
      "cell_type": "code",
      "source": [
        "import java.util.Scanner;\n",
        "\n",
        "public class StudentGradeCalculator {\n",
        "    public static void main(String[] args) {\n",
        "        Scanner scanner = new Scanner(System.in);\n",
        "\n",
        "        // Number of subjects\n",
        "        System.out.print(\"Enter the number of subjects: \");\n",
        "        int numSubjects = scanner.nextInt();\n",
        "\n",
        "        // Array to hold marks\n",
        "        int[] marks = new int[numSubjects];\n",
        "\n",
        "        // Input marks for each subject\n",
        "        System.out.println(\"Enter marks obtained in each subject (out of 100):\");\n",
        "        for (int i = 0; i < numSubjects; i++) {\n",
        "            System.out.print(\"Subject \" + (i + 1) + \": \");\n",
        "            marks[i] = scanner.nextInt();\n",
        "        }\n",
        "\n",
        "        // Calculate total marks\n",
        "        int totalMarks = 0;\n",
        "        for (int mark : marks) {\n",
        "            totalMarks += mark;\n",
        "        }\n",
        "\n",
        "        // Calculate average percentage\n",
        "        double averagePercentage = (double) totalMarks / numSubjects;\n",
        "\n",
        "        // Determine grade based on average percentage\n",
        "        char grade;\n",
        "        if (averagePercentage >= 90) {\n",
        "            grade = 'A';\n",
        "        } else if (averagePercentage >= 80) {\n",
        "            grade = 'B';\n",
        "        } else if (averagePercentage >= 70) {\n",
        "            grade = 'C';\n",
        "        } else if (averagePercentage >= 60) {\n",
        "            grade = 'D';\n",
        "        } else {\n",
        "            grade = 'F';\n",
        "        }\n",
        "\n",
        "        // Display results\n",
        "        System.out.println(\"\\nResults:\");\n",
        "        System.out.println(\"Total Marks: \" + totalMarks);\n",
        "        System.out.println(\"Average Percentage: \" + String.format(\"%.2f\", averagePercentage) + \"%\");\n",
        "        System.out.println(\"Grade: \" + grade);\n",
        "\n",
        "        scanner.close();\n",
        "    }\n",
        "}"
      ],
      "metadata": {
        "id": "QGHBgCFwN6UV"
      },
      "execution_count": null,
      "outputs": []
    }
  ]
}